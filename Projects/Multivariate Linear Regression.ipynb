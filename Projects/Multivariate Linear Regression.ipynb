{
 "cells": [
  {
   "cell_type": "markdown",
   "id": "cbae81a1-6143-4838-b7a6-72682d1822f2",
   "metadata": {},
   "source": [
    "# **Implementing Multivarite Regression from scratch**"
   ]
  },
  {
   "cell_type": "markdown",
   "id": "4ca2c26b-4487-4e1e-b943-0505b6a0c782",
   "metadata": {},
   "source": [
    "### **Importing Modules**"
   ]
  },
  {
   "cell_type": "code",
   "execution_count": 1,
   "id": "f0a2351f-3f0c-4acb-b4a5-383078c38211",
   "metadata": {},
   "outputs": [],
   "source": [
    "import numpy as np\n",
    "import matplotlib.pyplot as plt"
   ]
  },
  {
   "cell_type": "markdown",
   "id": "5a26de30-ef0d-4389-978e-e67f2e550e55",
   "metadata": {},
   "source": [
    "### **Creating Dataset (From Andrew Ng Supervised ML Course)**"
   ]
  },
  {
   "cell_type": "code",
   "execution_count": 2,
   "id": "1bc5a3f2-09d6-4998-ac67-ee0ad3115b6e",
   "metadata": {},
   "outputs": [],
   "source": [
    "X_train = np.array([[2104, 5, 1, 45], [1416, 3, 2, 40], [852, 2, 1, 35]])"
   ]
  },
  {
   "cell_type": "code",
   "execution_count": 3,
   "id": "f970d268-bd2b-4876-8953-d8d395205743",
   "metadata": {},
   "outputs": [
    {
     "name": "stdout",
     "output_type": "stream",
     "text": [
      "[[2104    5    1   45]\n",
      " [1416    3    2   40]\n",
      " [ 852    2    1   35]]\n"
     ]
    }
   ],
   "source": [
    "print(X_train)"
   ]
  },
  {
   "cell_type": "code",
   "execution_count": 4,
   "id": "0511cae3-c2e9-4713-aa71-e3bb6a53f3d5",
   "metadata": {},
   "outputs": [],
   "source": [
    "y_train = np.array([460, 232, 178])"
   ]
  },
  {
   "cell_type": "code",
   "execution_count": 5,
   "id": "26e79ba2-ddb6-4451-a5d9-b850544a5855",
   "metadata": {},
   "outputs": [
    {
     "name": "stdout",
     "output_type": "stream",
     "text": [
      "[460 232 178]\n"
     ]
    }
   ],
   "source": [
    "print(y_train)"
   ]
  },
  {
   "cell_type": "markdown",
   "id": "acfc2359-173b-4064-9984-bc5d9241a144",
   "metadata": {},
   "source": [
    "### **Making the Model**"
   ]
  },
  {
   "cell_type": "code",
   "execution_count": 6,
   "id": "e8d583da-410b-4734-844e-5f63b9965907",
   "metadata": {},
   "outputs": [
    {
     "name": "stdout",
     "output_type": "stream",
     "text": [
      "[0. 0. 0. 0.]\n",
      "[2104    5    1   45]\n"
     ]
    }
   ],
   "source": [
    "m=X_train.shape[1]\n",
    "w=np.zeros(m)\n",
    "print(w)\n",
    "print(X_train[0])"
   ]
  },
  {
   "cell_type": "code",
   "execution_count": 7,
   "id": "f6291684-b9b9-4beb-ba6c-9f8b77abc292",
   "metadata": {},
   "outputs": [],
   "source": [
    "b=0"
   ]
  },
  {
   "cell_type": "code",
   "execution_count": 8,
   "id": "d2492ee9-0d67-4282-b45a-af6d61c4a381",
   "metadata": {},
   "outputs": [],
   "source": [
    "def Model(X, w, b):\n",
    "    m = X.shape[0]\n",
    "    f_wb = np.zeros(m)\n",
    "    for i in range(m):\n",
    "        f_wb[i] = np.dot(X[i], w) + b  \n",
    "    return f_wb"
   ]
  },
  {
   "cell_type": "code",
   "execution_count": 9,
   "id": "8faed01c-743b-47ac-b59e-9c5e3da7d71c",
   "metadata": {},
   "outputs": [
    {
     "name": "stdout",
     "output_type": "stream",
     "text": [
      "[0. 0. 0.]\n"
     ]
    }
   ],
   "source": [
    "prediction=Model(X_train,w,b)\n",
    "print(prediction)"
   ]
  },
  {
   "cell_type": "markdown",
   "id": "4e57e15d-c21b-408d-9f35-24e261dd5c94",
   "metadata": {},
   "source": [
    "### **Making the Cost Function**\n"
   ]
  },
  {
   "cell_type": "code",
   "execution_count": 10,
   "id": "aef52716-1b3c-461d-88cc-891e316236b8",
   "metadata": {},
   "outputs": [],
   "source": [
    "def Cost(y,f_wb):\n",
    "    m=y.shape[0]\n",
    "    C=[]\n",
    "    cost=0\n",
    "    for i in range (m):\n",
    "        c=(f_wb[i]-y[i])**2\n",
    "        C.append(c)\n",
    "        cost=cost+c\n",
    "    return cost,C"
   ]
  },
  {
   "cell_type": "code",
   "execution_count": 11,
   "id": "caade51d-7a87-4409-bfcc-e8b6df4d13ea",
   "metadata": {},
   "outputs": [
    {
     "name": "stdout",
     "output_type": "stream",
     "text": [
      "297108.0\n"
     ]
    }
   ],
   "source": [
    "cost,C=Cost(y_train,prediction)\n",
    "print(cost)"
   ]
  },
  {
   "cell_type": "markdown",
   "id": "6bb8e1ec-0881-4844-a9cf-359a1638112c",
   "metadata": {},
   "source": [
    "### **Gradient Descent**"
   ]
  },
  {
   "cell_type": "code",
   "execution_count": 12,
   "id": "e84eda30-25d9-4379-a62a-230df522323f",
   "metadata": {},
   "outputs": [],
   "source": [
    "def Gradient_Descent(X,y,f_wb,alpha,w,b):\n",
    "    m=X.shape[0] #number of training examples\n",
    "    n=X.shape[1] #number of features\n",
    "    shift_w=np.zeros(n)\n",
    "    shift_b=0\n",
    "    for i in range (m):\n",
    "        diff=(f_wb[i]-y[i])\n",
    "        shift_b=shift_b+diff\n",
    "        for j in range (n):\n",
    "            shift_w[j] =shift_w[j]+diff * X[i, j]\n",
    "    shift_w = (alpha * shift_w) / m\n",
    "    shift_b=(alpha*shift_b)/m\n",
    "    w=w-shift_w\n",
    "    b=b-shift_b\n",
    "    return w,b"
   ]
  },
  {
   "cell_type": "markdown",
   "id": "ed973d86-6ef3-4483-bb31-47a8ebce2406",
   "metadata": {},
   "source": [
    "### **Normalization**"
   ]
  },
  {
   "cell_type": "code",
   "execution_count": 13,
   "id": "ddc7415a-7dcb-451e-ac5a-e8b5837dae36",
   "metadata": {},
   "outputs": [],
   "source": [
    "def min_max_normalisation2D(x):\n",
    "    max=np.max(x,axis=0)\n",
    "    min=np.min(x,axis=0)\n",
    "    normalised=(x-min)/(max-min)\n",
    "    return normalised"
   ]
  },
  {
   "cell_type": "code",
   "execution_count": 14,
   "id": "7fe75f0c-4199-49b0-9bf2-05c805b3efa3",
   "metadata": {},
   "outputs": [],
   "source": [
    "def unscale(normalised,max,min):\n",
    "    print(\"Diff=\",max-min)\n",
    "    data=((normalised*(max-min))+min)\n",
    "    return data"
   ]
  },
  {
   "cell_type": "code",
   "execution_count": 15,
   "id": "d32632f8-b8b5-4493-92d5-aade069b4f8d",
   "metadata": {},
   "outputs": [
    {
     "name": "stdout",
     "output_type": "stream",
     "text": [
      "[[1.         1.         0.         1.        ]\n",
      " [0.45047923 0.33333333 1.         0.5       ]\n",
      " [0.         0.         0.         0.        ]]\n",
      "[1.         0.19148936 0.        ]\n"
     ]
    }
   ],
   "source": [
    "X_train_normalised=min_max_normalisation2D(X_train)\n",
    "y_train_normalised=min_max_normalisation2D(y_train)\n",
    "print(X_train_normalised)\n",
    "print(y_train_normalised)"
   ]
  },
  {
   "cell_type": "code",
   "execution_count": 16,
   "id": "8530a0cd-68ae-41f7-8b7b-7ceecb007395",
   "metadata": {},
   "outputs": [],
   "source": [
    "alpha=0.01\n",
    "w,b=Gradient_Descent(X_train_normalised,y_train_normalised,prediction,alpha,w,b)"
   ]
  },
  {
   "cell_type": "code",
   "execution_count": 17,
   "id": "afbe314c-0fd4-41dd-a515-9dca8c1cb9df",
   "metadata": {},
   "outputs": [
    {
     "name": "stdout",
     "output_type": "stream",
     "text": [
      "[0.00362087 0.0035461  0.0006383  0.00365248] 0.003971631205673759\n"
     ]
    }
   ],
   "source": [
    "print(w,b)"
   ]
  },
  {
   "cell_type": "code",
   "execution_count": 18,
   "id": "ad52c3eb-1d21-4760-aedc-5b9dd7a1e1ec",
   "metadata": {},
   "outputs": [],
   "source": [
    "max_X=np.max(X_train,axis=0)\n",
    "min_X=np.min(X_train,axis=0)"
   ]
  },
  {
   "cell_type": "code",
   "execution_count": 19,
   "id": "18af34af-e1fa-4d33-ac41-524b93eaf906",
   "metadata": {},
   "outputs": [
    {
     "name": "stdout",
     "output_type": "stream",
     "text": [
      "460 178\n"
     ]
    }
   ],
   "source": [
    "max_y=np.max(y_train,axis=0)\n",
    "min_y=np.min(y_train,axis=0)\n",
    "print(max_y,min_y)"
   ]
  },
  {
   "cell_type": "code",
   "execution_count": 20,
   "id": "bd7a8c39-9785-4749-8611-b1e0734d0a3e",
   "metadata": {},
   "outputs": [
    {
     "name": "stdout",
     "output_type": "stream",
     "text": [
      "Diff= 282\n",
      "[182.17108626 180.60831149 179.12      ]\n"
     ]
    }
   ],
   "source": [
    "prediction=Model(X_train_normalised,w,b)\n",
    "prediction=unscale(prediction,max_y,min_y)\n",
    "print(prediction)"
   ]
  },
  {
   "cell_type": "code",
   "execution_count": 21,
   "id": "629deed8-8adf-4863-9f8f-2ccee66b3926",
   "metadata": {},
   "outputs": [
    {
     "name": "stdout",
     "output_type": "stream",
     "text": [
      "[460 232 178]\n"
     ]
    }
   ],
   "source": [
    "print(y_train)"
   ]
  },
  {
   "cell_type": "code",
   "execution_count": 22,
   "id": "05dc7065-0ab5-4f6c-b30e-1a0e54149a87",
   "metadata": {},
   "outputs": [
    {
     "name": "stdout",
     "output_type": "stream",
     "text": [
      "Diff= 282\n",
      "Prediction [459.99963091 232.00199493 177.99673283]\n",
      "Actual [460 232 178]\n",
      "Cost= 1.4790393576429347e-05\n"
     ]
    }
   ],
   "source": [
    "i=0\n",
    "while i<10000:\n",
    "    alpha=0.005\n",
    "    w,b=Gradient_Descent(X_train_normalised,y_train_normalised,prediction,alpha,w,b)\n",
    "    prediction=Model(X_train_normalised,w,b)\n",
    "    i=i+1\n",
    "prediction=unscale(prediction,max_y,min_y)\n",
    "print(\"Prediction\",prediction)\n",
    "print(\"Actual\",y_train)\n",
    "cost,C=Cost(y_train,prediction)\n",
    "print(\"Cost=\",cost)"
   ]
  },
  {
   "cell_type": "code",
   "execution_count": 23,
   "id": "678abf68-8c06-4a0c-a114-e2da3407985c",
   "metadata": {},
   "outputs": [],
   "source": [
    "w=0\n",
    "b=0"
   ]
  },
  {
   "cell_type": "code",
   "execution_count": 24,
   "id": "0b91a0c4-2867-401f-a49b-d00f9c224725",
   "metadata": {},
   "outputs": [
    {
     "name": "stdout",
     "output_type": "stream",
     "text": [
      "416\n"
     ]
    },
    {
     "data": {
      "text/plain": [
       "Text(0.5, 1.0, 'Learning Curve')"
      ]
     },
     "execution_count": 24,
     "metadata": {},
     "output_type": "execute_result"
    },
    {
     "data": {
      "image/png": "[encoded data removed]",
      "text/plain": [
       "<Figure size 640x480 with 1 Axes>"
      ]
     },
     "metadata": {},
     "output_type": "display_data"
    }
   ],
   "source": [
    "e=0.0005\n",
    "p=[]\n",
    "converged=False\n",
    "old_cost=1\n",
    "new_cost=0\n",
    "i=0\n",
    "while not converged:\n",
    "    i+=1\n",
    "    w,b=Gradient_Descent(X_train_normalised,y_train_normalised,prediction,alpha,w,b)\n",
    "    prediction=Model(X_train_normalised,w,b)\n",
    "    new_cost,C=Cost(y_train_normalised,prediction)\n",
    "    p.append(new_cost)\n",
    "    if abs(new_cost-old_cost)<e:\n",
    "        converged=True\n",
    "    old_cost=new_cost\n",
    "print(i)\n",
    "z=range(1,i+1)\n",
    "plt.plot(z,p)\n",
    "plt.title(\"Learning Curve\")"
   ]
  },
  {
   "cell_type": "code",
   "execution_count": 25,
   "id": "5e55ce32-8b59-45f0-85fd-961b12a47408",
   "metadata": {},
   "outputs": [
    {
     "name": "stdout",
     "output_type": "stream",
     "text": [
      "1.4790393576429347e-05\n"
     ]
    }
   ],
   "source": [
    "print(cost)"
   ]
  },
  {
   "cell_type": "code",
   "execution_count": 26,
   "id": "8447f570-1db8-4237-b7a7-af20cd4b0a62",
   "metadata": {},
   "outputs": [
    {
     "name": "stdout",
     "output_type": "stream",
     "text": [
      "[0.73056155 0.35277843 0.07962476]\n"
     ]
    }
   ],
   "source": [
    "print(prediction)"
   ]
  }
 ],
 "metadata": {
  "kernelspec": {
   "display_name": "Python 3 (ipykernel)",
   "language": "python",
   "name": "python3"
  },
  "language_info": {
   "codemirror_mode": {
    "name": "ipython",
    "version": 3
   },
   "file_extension": ".py",
   "mimetype": "text/x-python",
   "name": "python",
   "nbconvert_exporter": "python",
   "pygments_lexer": "ipython3",
   "version": "3.11.8"
  },
  "widgets": {
   "application/vnd.jupyter.widget-state+json": {
    "state": {},
    "version_major": 2,
    "version_minor": 0
   }
  }
 },
 "nbformat": 4,
 "nbformat_minor": 5
}
