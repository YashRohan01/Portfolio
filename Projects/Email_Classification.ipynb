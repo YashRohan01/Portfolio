{
 "cells": [
  {
   "cell_type": "code",
   "execution_count": 1,
   "id": "181b9d32-8849-43a9-9a88-e4763d1bad29",
   "metadata": {},
   "outputs": [],
   "source": [
    "import numpy as np\n",
    "import pandas as pd\n",
    "import matplotlib.pyplot as plt"
   ]
  },
  {
   "cell_type": "code",
   "execution_count": 2,
   "id": "b137fd8e-4432-4ce6-b2c3-bc2a65592c9d",
   "metadata": {},
   "outputs": [],
   "source": [
    "def getParameters(x):\n",
    "    if x.ndim==1:\n",
    "        w=0\n",
    "        b=0\n",
    "        return w,b\n",
    "    elif x.ndim==2:\n",
    "        m=x.shape[1]\n",
    "        w=np.zeros(m)\n",
    "        b=0\n",
    "        return w,b"
   ]
  },
  {
   "cell_type": "code",
   "execution_count": 3,
   "id": "b2b32b47-11ff-4eca-9725-68797d5d53f4",
   "metadata": {},
   "outputs": [],
   "source": [
    "def Regression(x,w,b):\n",
    "    m=x.shape[0]\n",
    "    f_wb=np.zeros(m)\n",
    "    \n",
    "    if x.ndim==1:\n",
    "        for i in range (m):\n",
    "            f_wb[i]=(w*x[i])+b\n",
    "        return f_wb\n",
    "    \n",
    "    elif x.ndim==2:\n",
    "        for i in range (m):\n",
    "            f_wb[i]=np.dot(w,x[i])+b\n",
    "        return f_wb"
   ]
  },
  {
   "cell_type": "code",
   "execution_count": 4,
   "id": "377a4b89-ec20-4975-95ca-2c7e05cba3f6",
   "metadata": {},
   "outputs": [],
   "source": [
    "def Sigmoid(z):\n",
    "    z=(1/(1+np.exp(-z)))\n",
    "    return z"
   ]
  },
  {
   "cell_type": "code",
   "execution_count": 5,
   "id": "6c8253bb-68d8-4cf1-9b82-9e7edcf32b13",
   "metadata": {},
   "outputs": [],
   "source": [
    "def Cost(y,f_wb):\n",
    "    cost=0\n",
    "    C=[]\n",
    "    m=y.shape[0]\n",
    "    for i in range (m):\n",
    "        diff=(y[i]*(np.log(f_wb[i]))+(1-y[i])*(np.log(1-f_wb[i])))\n",
    "        cost=cost+diff\n",
    "        C.append(diff)\n",
    "    cost=(-cost)/m\n",
    "    return cost,C"
   ]
  },
  {
   "cell_type": "code",
   "execution_count": 6,
   "id": "866df632-4722-4857-8af0-408a52275674",
   "metadata": {},
   "outputs": [],
   "source": [
    "def min_max_normalization(data):\n",
    "    max=np.max(data,axis=0)\n",
    "    min=np.min(data,axis=0)\n",
    "    normalised_data=(data-min)/(max-min)\n",
    "    return normalised_data,max,min"
   ]
  },
  {
   "cell_type": "code",
   "execution_count": 7,
   "id": "410aca0e-5e86-49ea-8aea-0c9880faf35a",
   "metadata": {},
   "outputs": [],
   "source": [
    "def denormalize(normalised_data,max,min):\n",
    "    data=((normalised_data*(max-min))+min)\n",
    "    return data"
   ]
  },
  {
   "cell_type": "code",
   "execution_count": 8,
   "id": "f9b88998-7fb5-4cd6-a99d-3d967334464a",
   "metadata": {},
   "outputs": [],
   "source": [
    "def Gradient_Descent(x,y,f_wb,alpha,w,b):\n",
    "    if x.ndim==1:\n",
    "        m=x.shape[0]\n",
    "        shift_w=0\n",
    "        shift_b=0\n",
    "        for i in range (m):\n",
    "            shift_b=shift_b+(f_wb[i]-y[i])\n",
    "            shift_w=shift_w+((f_wb[i]-y[i])*x[i])\n",
    "        shift_b=(alpha*shift_b)/m\n",
    "        shift_w=(alpha*shift_w)/m\n",
    "        b=b-shift_b\n",
    "        w=w-shift_w\n",
    "        return w,b\n",
    "    elif x.ndim==2:\n",
    "        m=x.shape[0] #number of examples\n",
    "        n=x.shape[1] #number of features\n",
    "        shift_b=0\n",
    "        shift_w=np.zeros(n)\n",
    "        for i in range (m):\n",
    "            shift_b=shift_b+(f_wb[i]-y[i])\n",
    "            for j in range (n):\n",
    "                shift_w[j]=shift_w[j]+((f_wb[i]-y[i])*x[i,j])\n",
    "        shift_b=(alpha*shift_b)/m\n",
    "        shift_w=(alpha*shift_w)/m\n",
    "        b=b-shift_b\n",
    "        w=w-shift_w\n",
    "        return w,b"
   ]
  },
  {
   "cell_type": "code",
   "execution_count": 9,
   "id": "f2c7dddf-2766-4172-9b8a-d7357a759dff",
   "metadata": {},
   "outputs": [],
   "source": [
    "def Decision_Boundary(f_wb,limit):\n",
    "    m=f_wb.shape[0]\n",
    "    for i in range(m):\n",
    "        if f_wb[i]>limit:\n",
    "            f_wb[i]=1\n",
    "        else:\n",
    "            f_wb[i]=0\n",
    "    return f_wb"
   ]
  },
  {
   "cell_type": "code",
   "execution_count": 10,
   "id": "41a63746-8918-4052-9b1b-11f834526491",
   "metadata": {},
   "outputs": [],
   "source": [
    "def Accuracy(y,f_wb):\n",
    "    accuracy=0\n",
    "    m=y.shape[0]\n",
    "    for i in range(m):\n",
    "        if f_wb[i]==y[i]:\n",
    "            accuracy+=1\n",
    "    accuracy=(accuracy*100)/m\n",
    "    return accuracy"
   ]
  },
  {
   "cell_type": "code",
   "execution_count": 11,
   "id": "0601eb35-bf0d-4ebc-bcb5-dc25292478e4",
   "metadata": {},
   "outputs": [],
   "source": [
    "def Confusion_Matrix(y,prediction):\n",
    "    tp=0\n",
    "    tn=0\n",
    "    fp=0\n",
    "    fn=0\n",
    "    for i in range (len(prediction)):\n",
    "        if prediction[i]==0 and y[i]==0:\n",
    "            tn=tn+1\n",
    "        elif prediction[i]==0 and y[i]==1:\n",
    "            fn+=1\n",
    "        elif prediction[i]==1 and y[i]==0:\n",
    "            fp+=1\n",
    "        elif prediction[i]==1 and y[i]==1:\n",
    "            tp+=1\n",
    "    print(tp,fp,\"\\n\",fn,tn)\n",
    "    return"
   ]
  },
  {
   "cell_type": "code",
   "execution_count": 12,
   "id": "a4eac29b-68a5-4115-9040-26e2e52db08d",
   "metadata": {},
   "outputs": [],
   "source": [
    "email_df=pd.read_csv(r\"C:\\Users\\yashr\\OneDrive\\Desktop\\Mini-Projects\\IDA Mini-Project\\spambase\\spambase.data\",header=None)"
   ]
  },
  {
   "cell_type": "code",
   "execution_count": 13,
   "id": "138ec0d4-efbc-404d-acf3-64dbdb4a2e8e",
   "metadata": {},
   "outputs": [],
   "source": [
    "email_df.columns=['word_freq_make', 'word_freq_address',  'word_freq_all', 'word_freq_3d', 'word_freq_our', 'word_freq_over', 'word_freq_remove', 'word_freq_internet', 'word_freq_order', 'word_freq_mail', 'word_freq_receive', 'word_freq_will', 'word_freq_people', 'word_freq_report', 'word_freq_addresses', 'word_freq_free', 'word_freq_business', 'word_freq_email', 'word_freq_you', 'word_freq_credit', 'word_freq_your', 'word_freq_font', 'word_freq_000', 'word_freq_money', 'word_freq_hp', 'word_freq_hpl',  'word_freq_george', 'word_freq_650', 'word_freq_lab', 'word_freq_labs', 'word_freq_telnet', 'word_freq_857', 'word_freq_data', 'word_freq_415', 'word_freq_85', 'word_freq_technology', 'word_freq_1999',  'word_freq_parts', 'word_freq_pm',  'word_freq_direct', 'word_freq_cs',  'word_freq_meeting', 'word_freq_original','word_freq_project', 'word_freq_re', 'word_freq_edu','word_freq_table', 'word_freq_conference', 'char_freq_;', 'char_freq_(', 'char_freq_[', 'char_freq_!', 'char_freq_$', 'char_freq_#', 'capital_run_length_average',  'capital_run_length_longest', 'capital_run_length_total' ,'Spam']"
   ]
  },
  {
   "cell_type": "code",
   "execution_count": 14,
   "id": "15cb0fb2-9ea1-4c6e-b734-ded6728e208d",
   "metadata": {},
   "outputs": [],
   "source": [
    "X=email_df.drop('Spam',axis=1).values"
   ]
  },
  {
   "cell_type": "code",
   "execution_count": 15,
   "id": "d7bf5dbc-4018-420b-9650-ab312f0f4ccf",
   "metadata": {},
   "outputs": [],
   "source": [
    "y=email_df['Spam']\n",
    "y=y.values"
   ]
  },
  {
   "cell_type": "code",
   "execution_count": 16,
   "id": "49385cb2-6ac9-49f0-bfde-d16983656e27",
   "metadata": {},
   "outputs": [],
   "source": [
    "from sklearn.model_selection import train_test_split\n",
    "test_size=0.6\n",
    "random_state=1\n",
    "X_train, X_test, y_train, y_test = train_test_split(X, y, test_size=test_size, random_state=random_state)"
   ]
  },
  {
   "cell_type": "code",
   "execution_count": 17,
   "id": "4456503c-9a0a-4142-938f-086a63c7218f",
   "metadata": {},
   "outputs": [],
   "source": [
    "X_train_normalised,X_train_max,X_train_min=min_max_normalization(X_train)\n",
    "y_train_normalised,y_train_max,y_train_min=min_max_normalization(y_train)"
   ]
  },
  {
   "cell_type": "code",
   "execution_count": 18,
   "id": "52dbfb76-3b2a-47cc-81a5-6b7e59623490",
   "metadata": {},
   "outputs": [
    {
     "name": "stdout",
     "output_type": "stream",
     "text": [
      "20000\n",
      "20000\n"
     ]
    },
    {
     "data": {
      "text/plain": [
       "Text(0.5, 1.0, 'Learning Curve')"
      ]
     },
     "execution_count": 18,
     "metadata": {},
     "output_type": "execute_result"
    },
    {
     "data": {
      "image/png": "[encoded data removed]",
      "text/plain": [
       "<Figure size 640x480 with 1 Axes>"
      ]
     },
     "metadata": {},
     "output_type": "display_data"
    }
   ],
   "source": [
    "w,b=getParameters(X_train_normalised)\n",
    "prediction=Regression(X_train_normalised,w,b)\n",
    "alpha=0.6\n",
    "e=0.00002 \n",
    "p=[]\n",
    "old_cost=10\n",
    "new_cost=0\n",
    "converged=False\n",
    "i=0\n",
    "\n",
    "while i<20000:\n",
    "    i=i+1\n",
    "    w,b=Gradient_Descent(X_train_normalised,y_train_normalised,prediction,alpha,w,b)\n",
    "    prediction=Regression(X_train_normalised,w,b)\n",
    "    prediction=Sigmoid(prediction)\n",
    "    new_cost,C=Cost(y_train_normalised,prediction)\n",
    "    p.append(new_cost)\n",
    "    if abs(old_cost-new_cost)<e:\n",
    "        converged=True\n",
    "    old_cost=new_cost\n",
    "\n",
    "print(i)\n",
    "print(len(p))\n",
    "z=range(1,i+1)\n",
    "plt.plot(z,p)\n",
    "plt.title(\"Learning Curve\")"
   ]
  },
  {
   "cell_type": "code",
   "execution_count": 19,
   "id": "8ea987fd-19ff-4ee6-8a19-578a4d2fe2c4",
   "metadata": {},
   "outputs": [],
   "source": [
    "X_test_normalised,max1,min1=min_max_normalization(X_test)\n",
    "y_test_normalised,max2,max2=min_max_normalization(y_test)"
   ]
  },
  {
   "cell_type": "code",
   "execution_count": 20,
   "id": "2d09bb68-79e5-4e2a-9e22-cdddcf4f5882",
   "metadata": {},
   "outputs": [
    {
     "name": "stdout",
     "output_type": "stream",
     "text": [
      "91.416153567548 %\n"
     ]
    }
   ],
   "source": [
    "prediction=Regression(X_test_normalised,w,b)\n",
    "prediction=Sigmoid(prediction)\n",
    "prediction=Decision_Boundary(prediction,0.5)\n",
    "accuracy=Accuracy(y_test,prediction)\n",
    "print(accuracy,\"%\")"
   ]
  },
  {
   "cell_type": "code",
   "execution_count": 21,
   "id": "bff17b44-478d-4896-a2dc-8a54dddeaaa0",
   "metadata": {},
   "outputs": [],
   "source": [
    "X_normalised, X_max, X_min=min_max_normalization(X)\n",
    "y_normalised, y_max, y_min=min_max_normalization(y)"
   ]
  },
  {
   "cell_type": "code",
   "execution_count": 22,
   "id": "a1b1a585-de4d-4191-a90f-3e16533ac8d8",
   "metadata": {},
   "outputs": [
    {
     "name": "stdout",
     "output_type": "stream",
     "text": [
      "86.91588785046729 %\n",
      "1286 75 \n",
      " 527 2713\n"
     ]
    }
   ],
   "source": [
    "prediction=Regression(X_normalised,w,b)\n",
    "prediction=Decision_Boundary(prediction, 0.5)\n",
    "accuracy=Accuracy(y_normalised,prediction)\n",
    "print(accuracy,\"%\")\n",
    "Confusion_Matrix(y,prediction)"
   ]
  },
  {
   "cell_type": "code",
   "execution_count": 23,
   "id": "f2d9a0af-41d1-4eb0-bda4-400d38704259",
   "metadata": {},
   "outputs": [
    {
     "name": "stdout",
     "output_type": "stream",
     "text": [
      "90.05434782608695 %\n"
     ]
    }
   ],
   "source": [
    "prediction=Regression(X_train_normalised,w,b)\n",
    "prediction=Decision_Boundary(prediction, 0.5)\n",
    "accuracy=Accuracy(y_train_normalised,prediction)\n",
    "print(accuracy,\"%\")"
   ]
  },
  {
   "cell_type": "code",
   "execution_count": 24,
   "id": "c10511ef-d002-4218-abc3-af3e6662ad02",
   "metadata": {},
   "outputs": [],
   "source": [
    "with open(r\"C:\\Users\\yashr\\OneDrive\\Desktop\\Mini-Projects\\IDA Mini-Project\\spam_email.txt\",'r') as email:\n",
    "    content=email.read()"
   ]
  },
  {
   "cell_type": "code",
   "execution_count": 25,
   "id": "5d70a49b-c0fb-411f-9edd-14b1b3e1b7b7",
   "metadata": {},
   "outputs": [],
   "source": [
    "lines=content.split()"
   ]
  },
  {
   "cell_type": "code",
   "execution_count": 26,
   "id": "1f7ca843-50a5-4b9e-a6a9-2a61527829d1",
   "metadata": {},
   "outputs": [],
   "source": [
    "l=[\"make\",\"address\",\"all\",\"d3\",\"our\",\"over\",\"remove\",\"internet\",\"order\",\"mail\",\"recieve\",\"will\",\"people\",\"report\",\"addresses\",\"free\",\n",
    "   \"business\",\"email\",\"you\",\"credit\",\"your\",\"font\",\"000\",\"money\",\"hp\",\"hpl\",\"george\",\"650\",\"lab\",\"labs\",\"telnet\",\"857\",\"data\",\n",
    "   \"415\",\"85\",\"technology\",\"1999\",\"parts\",\"pm\",\"direct\",\"cs\",\"meeting\",\"original\",\"project\",\"re\",\"edu\",\"table\",\"conference\",\";\",\n",
    "   \"(\",\"[\",\"!\",\"$\",\"#\"]\n",
    "v=[0]*len(l)\n",
    "for word in lines:\n",
    "    if word in l:\n",
    "        i=l.index(word)\n",
    "        v[i]=v[i]+1"
   ]
  },
  {
   "cell_type": "code",
   "execution_count": 27,
   "id": "71ecd402-afd7-48f5-b521-1b76ca13fb18",
   "metadata": {},
   "outputs": [],
   "source": [
    "v_final=[]\n",
    "for num in v:\n",
    "    a=num/56\n",
    "    x=a*100\n",
    "    v_final.append(x)\n",
    "v_final.append(4)\n",
    "v_final.append(13)\n",
    "v_final.append(56)"
   ]
  },
  {
   "cell_type": "code",
   "execution_count": 28,
   "id": "f736666d-9dc3-4249-a4d4-28d896e3db41",
   "metadata": {},
   "outputs": [],
   "source": [
    "sp_df=pd.DataFrame([v_final],columns=email_df.columns[:-1])"
   ]
  },
  {
   "cell_type": "code",
   "execution_count": 29,
   "id": "dfd03177-8575-4323-a95e-691ac0560462",
   "metadata": {},
   "outputs": [],
   "source": [
    "X=sp_df.loc[0]\n",
    "X=X.values"
   ]
  },
  {
   "cell_type": "code",
   "execution_count": 30,
   "id": "e947c846-b5f5-4e9a-94bb-9b3d22299a27",
   "metadata": {},
   "outputs": [],
   "source": [
    "X,max,min=min_max_normalization(X)"
   ]
  },
  {
   "cell_type": "code",
   "execution_count": 31,
   "id": "832e8694-e41f-45c6-bea5-b7c6a8212688",
   "metadata": {},
   "outputs": [],
   "source": [
    "prediction=np.dot(X,w)+b"
   ]
  },
  {
   "cell_type": "code",
   "execution_count": 32,
   "id": "7dd698a8-48cf-4919-9a2d-20945e57a971",
   "metadata": {},
   "outputs": [
    {
     "name": "stdout",
     "output_type": "stream",
     "text": [
      "This model predicts that there is a 99.99934025123811 % chance that this email is spam\n"
     ]
    }
   ],
   "source": [
    "prediction=Sigmoid(prediction)\n",
    "print(\"This model predicts that there is a\",prediction*100,\"% chance that this email is spam\")"
   ]
  },
  {
   "cell_type": "code",
   "execution_count": 33,
   "id": "bf88a9e2-0145-44e9-bdbd-adaaecf2419a",
   "metadata": {},
   "outputs": [],
   "source": [
    "if prediction>0.5:\n",
    "    prediction=1\n",
    "else:\n",
    "    prediction=0"
   ]
  },
  {
   "cell_type": "code",
   "execution_count": 34,
   "id": "f04968d2-79ad-4423-be1c-f3a4f81c7552",
   "metadata": {},
   "outputs": [
    {
     "name": "stdout",
     "output_type": "stream",
     "text": [
      "It's a spam email\n",
      "CONGRATULIONS user ! ! ! It's our pleasure to inform you that you have won a chance to win and recieve money upto 20 000 $ . Just forward this mail to 15 different email addresses on the internet. Win money , free business or other exciting rewards for limited time ! \n",
      "This email is valid upto 4 months from the date of recieving . No later responses will be entertained.\n",
      "In order to submit your documents, our representative will soon come in contact with you. Just Reply yes to this email, with your mobile number to show us that you are genuinely ready to take part in this wondeful oppoutunity.\n",
      "# free #money # 20000 # people\n"
     ]
    }
   ],
   "source": [
    "if prediction==1:\n",
    "    print(\"It's a spam email\")\n",
    "    print(content)\n",
    "else:\n",
    "    print(\"It's not a spam email.\")"
   ]
  }
 ],
 "metadata": {
  "kernelspec": {
   "display_name": "Python 3 (ipykernel)",
   "language": "python",
   "name": "python3"
  },
  "language_info": {
   "codemirror_mode": {
    "name": "ipython",
    "version": 3
   },
   "file_extension": ".py",
   "mimetype": "text/x-python",
   "name": "python",
   "nbconvert_exporter": "python",
   "pygments_lexer": "ipython3",
   "version": "3.11.8"
  },
  "widgets": {
   "application/vnd.jupyter.widget-state+json": {
    "state": {},
    "version_major": 2,
    "version_minor": 0
   }
  }
 },
 "nbformat": 4,
 "nbformat_minor": 5
}
