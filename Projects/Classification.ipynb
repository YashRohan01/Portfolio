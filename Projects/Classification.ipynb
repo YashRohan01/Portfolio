{
 "cells": [
  {
   "cell_type": "code",
   "execution_count": 1,
   "id": "8131e795-aada-4115-ad5e-029883e27674",
   "metadata": {},
   "outputs": [],
   "source": [
    "import numpy as np\n",
    "import pandas as pd\n",
    "import matplotlib.pyplot as plt"
   ]
  },
  {
   "cell_type": "code",
   "execution_count": 2,
   "id": "59cc0d06-caa5-40ac-82b1-eb8ce724386a",
   "metadata": {},
   "outputs": [],
   "source": [
    "x_train = np.array([0., 1, 2, 3, 4, 5])\n",
    "y_train = np.array([0,  0, 0, 1, 1, 1])"
   ]
  },
  {
   "cell_type": "code",
   "execution_count": 3,
   "id": "85ce7866-b4d1-4e0b-a112-e40d4f1360e6",
   "metadata": {},
   "outputs": [
    {
     "data": {
      "image/png": "[encoded data removed]",
      "text/plain": [
       "<Figure size 640x480 with 1 Axes>"
      ]
     },
     "metadata": {},
     "output_type": "display_data"
    }
   ],
   "source": [
    "plt.scatter(x_train,y_train)\n",
    "plt.show()"
   ]
  },
  {
   "cell_type": "code",
   "execution_count": 4,
   "id": "73c9bf02-1cfb-48dc-b6c3-50c83972922d",
   "metadata": {},
   "outputs": [],
   "source": [
    "def getParameters(x):\n",
    "    if x.ndim==1:\n",
    "        w=0\n",
    "        b=0\n",
    "        return w,b\n",
    "    elif x.ndim==2:\n",
    "        m=x.shape[0]\n",
    "        w=np.zeros(m)\n",
    "        b=0\n",
    "        return w,b"
   ]
  },
  {
   "cell_type": "code",
   "execution_count": 5,
   "id": "4de34323-fa4d-46c8-9b61-f660e93ed585",
   "metadata": {},
   "outputs": [],
   "source": [
    "def Regression(x,y,w,b):\n",
    "    m=x.shape[0]\n",
    "    f_wb=np.zeros(m)\n",
    "    if x.ndim==1:\n",
    "        for i in range (m):\n",
    "            f_wb[i]=(w*x[i])+b\n",
    "        return f_wb\n",
    "    elif x.ndim==2:\n",
    "        for i in range (m):\n",
    "            f_wb[i]=(np.dot(w[i],x[i]))+b\n",
    "        return f_wb"
   ]
  },
  {
   "cell_type": "code",
   "execution_count": 6,
   "id": "e997683d-c6d8-4144-83b6-641710337492",
   "metadata": {},
   "outputs": [],
   "source": [
    "def Sigmoid(z):\n",
    "    z=(1/(1+np.exp(-z)))\n",
    "    return z"
   ]
  },
  {
   "cell_type": "code",
   "execution_count": 7,
   "id": "7ae1f04f-9df6-4c96-b40a-1d4c01fe8c54",
   "metadata": {},
   "outputs": [],
   "source": [
    "def Cost(y,f_wb):\n",
    "    cost=0\n",
    "    C=[]\n",
    "    m=y.shape[0]\n",
    "    for i in range (m):\n",
    "        diff=(y[i]*(np.log(f_wb[i]))+(1-y[i])*(np.log(1-f_wb[i])))\n",
    "        cost=cost+diff\n",
    "        C.append(diff)\n",
    "    cost=(-cost)/m\n",
    "    return cost,C"
   ]
  },
  {
   "cell_type": "code",
   "execution_count": 8,
   "id": "9a459ab9-5071-49f3-9663-561a92d5ef12",
   "metadata": {},
   "outputs": [],
   "source": [
    "def min_max_normalization(data):\n",
    "    max=np.max(data,axis=0)\n",
    "    min=np.min(data,axis=0)\n",
    "    normalised_data=(data-min)/(max-min)\n",
    "    return normalised_data,max,min"
   ]
  },
  {
   "cell_type": "code",
   "execution_count": 9,
   "id": "19018449-2be8-4f67-b946-de021dfedb19",
   "metadata": {},
   "outputs": [],
   "source": [
    "def denormalize(normalised_data,max,min):\n",
    "    data=((normalised_data*(max-min))+min)\n",
    "    return data"
   ]
  },
  {
   "cell_type": "code",
   "execution_count": 10,
   "id": "92700a58-dd65-4b58-ad35-d8a7cc2f6770",
   "metadata": {},
   "outputs": [],
   "source": [
    "def Gradient_Descent(x,y,f_wb,alpha,w,b):\n",
    "    if x.ndim==1:\n",
    "        m=x.shape[0]\n",
    "        shift_w=0\n",
    "        shift_b=0\n",
    "        for i in range (m):\n",
    "            shift_b=shift_b+(f_wb[i]-y[i])\n",
    "            shift_w=shift_w+((f_wb[i]-y[i])*x[i])\n",
    "        shift_b=(alpha*shift_b)/m\n",
    "        shift_w=(alpha*shift_w)/m\n",
    "        b=b-shift_b\n",
    "        w=w-shift_w\n",
    "        return w,b\n",
    "    elif x.ndim==2:\n",
    "        m=x.shape[0] #number of examples\n",
    "        n=x.shape[1] #number of features\n",
    "        shift_b=0\n",
    "        shift_w=np.zeros(n)\n",
    "        for i in range (m):\n",
    "            shift_b=shift_b+(f_wb[i]-y[i])\n",
    "            for j in range (n):\n",
    "                shift_w[i]=shift_w[i]+((f_wb[i]-y[i])*x[i,j])\n",
    "        shift_b=(alpha*shift_b)/m\n",
    "        shift_w=(alpha*shift_w)/m\n",
    "        b=b-shift_b\n",
    "        w=w-shift_w\n",
    "        return w,b"
   ]
  },
  {
   "cell_type": "code",
   "execution_count": 11,
   "id": "d887e3e8-dea7-41a3-b524-3004c2c119d4",
   "metadata": {},
   "outputs": [],
   "source": [
    "def Decision_Boundary(f_wb,limit):\n",
    "    m=f_wb.shape[0]\n",
    "    for i in range(m):\n",
    "        if f_wb[i]>limit:\n",
    "            f_wb[i]=1\n",
    "        else:\n",
    "            f_wb[i]=0\n",
    "    return f_wb"
   ]
  },
  {
   "cell_type": "code",
   "execution_count": 12,
   "id": "39be4910-35c9-467f-a11d-ff36441120cd",
   "metadata": {},
   "outputs": [],
   "source": [
    "def Accuracy(y,f_wb):\n",
    "    accuracy=0\n",
    "    m=y.shape[0]\n",
    "    for i in range(m):\n",
    "        if f_wb[i]==y[i]:\n",
    "            accuracy+=1\n",
    "    accuracy=(accuracy*100)/m\n",
    "    return accuracy"
   ]
  },
  {
   "cell_type": "code",
   "execution_count": 13,
   "id": "91af1a81-c81b-4bc3-a5db-b4e6290f92b2",
   "metadata": {},
   "outputs": [
    {
     "name": "stdout",
     "output_type": "stream",
     "text": [
      "[0.  0.2 0.4 0.6 0.8 1. ]\n",
      "5.0\n",
      "0.0\n"
     ]
    }
   ],
   "source": [
    "x_normalised,x_train_max,x_train_min=min_max_normalization(x_train)\n",
    "print(x_normalised)\n",
    "print(x_train_max)\n",
    "print(x_train_min)"
   ]
  },
  {
   "cell_type": "code",
   "execution_count": 14,
   "id": "83f3c523-d57c-4f21-be46-83a5f149ef23",
   "metadata": {},
   "outputs": [
    {
     "name": "stdout",
     "output_type": "stream",
     "text": [
      "[0. 0. 0. 1. 1. 1.]\n",
      "1\n",
      "0\n"
     ]
    }
   ],
   "source": [
    "y_normalised,y_train_max,y_train_min=min_max_normalization(y_train)\n",
    "print(y_normalised)\n",
    "print(y_train_max)\n",
    "print(y_train_min)"
   ]
  },
  {
   "cell_type": "code",
   "execution_count": 15,
   "id": "edbc424e-aaed-4c74-a45c-631e19009cbc",
   "metadata": {},
   "outputs": [
    {
     "name": "stdout",
     "output_type": "stream",
     "text": [
      "0\n",
      "0\n"
     ]
    }
   ],
   "source": [
    "w,b=getParameters(x_train)\n",
    "print(w)\n",
    "print(b)"
   ]
  },
  {
   "cell_type": "code",
   "execution_count": 16,
   "id": "188b617b-35e2-4cfb-ad24-a29b311a2f02",
   "metadata": {},
   "outputs": [
    {
     "name": "stdout",
     "output_type": "stream",
     "text": [
      "[0. 0. 0. 0. 0. 0.]\n"
     ]
    }
   ],
   "source": [
    "prediction=Regression(x_normalised,y_normalised,w,b)\n",
    "print(prediction)"
   ]
  },
  {
   "cell_type": "code",
   "execution_count": 17,
   "id": "33021616-f5d7-4c33-a564-ea24b72c84ff",
   "metadata": {},
   "outputs": [
    {
     "name": "stdout",
     "output_type": "stream",
     "text": [
      "[0.5 0.5 0.5 0.5 0.5 0.5]\n"
     ]
    }
   ],
   "source": [
    "prediction=Sigmoid(prediction)\n",
    "print(prediction)"
   ]
  },
  {
   "cell_type": "code",
   "execution_count": 18,
   "id": "be965d8c-5408-421f-85e5-c8b96b7187a2",
   "metadata": {},
   "outputs": [
    {
     "name": "stdout",
     "output_type": "stream",
     "text": [
      "0.6931471805599453\n"
     ]
    }
   ],
   "source": [
    "cost,C=Cost(y_normalised,prediction)\n",
    "print(cost)"
   ]
  },
  {
   "cell_type": "code",
   "execution_count": 19,
   "id": "df52536c-2db1-4f75-951f-5a382b1b5fa5",
   "metadata": {},
   "outputs": [
    {
     "name": "stdout",
     "output_type": "stream",
     "text": [
      "0.15 0.0\n"
     ]
    }
   ],
   "source": [
    "alpha=1\n",
    "w,b=Gradient_Descent(x_normalised,y_normalised,prediction,alpha,w,b)\n",
    "print(w,b)"
   ]
  },
  {
   "cell_type": "code",
   "execution_count": 20,
   "id": "bb6e0468-e7c6-4608-9395-1dd30d139ddf",
   "metadata": {},
   "outputs": [
    {
     "name": "stdout",
     "output_type": "stream",
     "text": [
      "0.671677743064715\n"
     ]
    }
   ],
   "source": [
    "prediction=Regression(x_normalised,y_normalised,w,b)\n",
    "prediction=Sigmoid(prediction)\n",
    "cost,C=Cost(y_normalised,prediction)\n",
    "print(cost)"
   ]
  },
  {
   "cell_type": "code",
   "execution_count": 21,
   "id": "c56908a0-7813-496c-ac84-dd60f5d7e277",
   "metadata": {},
   "outputs": [
    {
     "name": "stdout",
     "output_type": "stream",
     "text": [
      "old cost=  0.03621683352237847  new cost=  0.0362068367397217\n",
      "Number of iterations taken=  2708\n",
      "[1.92911204e-05 1.50841631e-03 1.05786231e-01 9.02572142e-01\n",
      " 9.98623450e-01 9.99982398e-01]\n"
     ]
    },
    {
     "data": {
      "text/plain": [
       "Text(0.5, 1.0, 'Learning Curve')"
      ]
     },
     "execution_count": 21,
     "metadata": {},
     "output_type": "execute_result"
    },
    {
     "data": {
      "image/png": "[encoded data removed]",
      "text/plain": [
       "<Figure size 640x480 with 1 Axes>"
      ]
     },
     "metadata": {},
     "output_type": "display_data"
    }
   ],
   "source": [
    "w,b=getParameters(x_train)\n",
    "converged=False\n",
    "e=0.00001\n",
    "t=[]\n",
    "new_cost=0\n",
    "old_cost=1\n",
    "i=0\n",
    "while not converged:\n",
    "    i=i+1\n",
    "    w,b=Gradient_Descent(x_normalised,y_normalised,prediction,alpha,w,b)\n",
    "    prediction=Regression(x_normalised,y_normalised,w,b)\n",
    "    prediction=Sigmoid(prediction)\n",
    "    new_cost,C=Cost(y_normalised,prediction)\n",
    "    t.append(new_cost)\n",
    "    if abs(new_cost-old_cost)<e:\n",
    "        print(\"old cost= \",old_cost,\" new cost= \",new_cost)\n",
    "        converged=True\n",
    "    old_cost=new_cost\n",
    "    \n",
    "print(\"Number of iterations taken= \",i)\n",
    "print(prediction)\n",
    "z=range(1,i+1)\n",
    "plt.plot(z,t)\n",
    "plt.title(\"Learning Curve\")"
   ]
  },
  {
   "cell_type": "code",
   "execution_count": 22,
   "id": "9d98adbb-485d-4dc5-bbe5-a22c6aad0a0c",
   "metadata": {},
   "outputs": [
    {
     "name": "stdout",
     "output_type": "stream",
     "text": [
      "[0. 0. 0. 1. 1. 1.]\n",
      "100.0 %\n"
     ]
    }
   ],
   "source": [
    "prediction=Decision_Boundary(prediction,0.5)\n",
    "print(prediction)\n",
    "accuracy=Accuracy(y_train,prediction)\n",
    "print(accuracy,\"%\")"
   ]
  }
 ],
 "metadata": {
  "kernelspec": {
   "display_name": "Python 3 (ipykernel)",
   "language": "python",
   "name": "python3"
  },
  "language_info": {
   "codemirror_mode": {
    "name": "ipython",
    "version": 3
   },
   "file_extension": ".py",
   "mimetype": "text/x-python",
   "name": "python",
   "nbconvert_exporter": "python",
   "pygments_lexer": "ipython3",
   "version": "3.11.8"
  },
  "widgets": {
   "application/vnd.jupyter.widget-state+json": {
    "state": {},
    "version_major": 2,
    "version_minor": 0
   }
  }
 },
 "nbformat": 4,
 "nbformat_minor": 5
}
